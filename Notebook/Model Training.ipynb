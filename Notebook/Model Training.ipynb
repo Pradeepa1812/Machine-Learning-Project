{
 "cells": [
  {
   "cell_type": "markdown",
   "id": "708e76d6",
   "metadata": {},
   "source": [
    "## Model Training"
   ]
  },
  {
   "cell_type": "code",
   "execution_count": 1,
   "id": "9860bad4",
   "metadata": {},
   "outputs": [],
   "source": [
    "import numpy as np\n",
    "import pandas as pd\n",
    "import matplotlib.pyplot as plt\n",
    "import seaborn as sns\n",
    "from sklearn.metrics import mean_absolute_error,mean_squared_error,r2_score\n",
    "from sklearn.neighbors import KNeighborsRegressor\n",
    "from sklearn.tree import DecisionTreeRegressor\n",
    "from sklearn.ensemble import RandomForestRegressor,AdaBoostRegressor\n",
    "from sklearn.svm import SVR\n",
    "from sklearn.linear_model import LinearRegression,Ridge,Lasso\n",
    "from sklearn.model_selection import train_test_split\n",
    "from catboost import CatBoostRegressor\n",
    "from xgboost import XGBRegressor\n",
    "import warnings"
   ]
  },
  {
   "cell_type": "code",
   "execution_count": 2,
   "id": "be6407f7",
   "metadata": {},
   "outputs": [
    {
     "data": {
      "text/html": [
       "<div>\n",
       "<style scoped>\n",
       "    .dataframe tbody tr th:only-of-type {\n",
       "        vertical-align: middle;\n",
       "    }\n",
       "\n",
       "    .dataframe tbody tr th {\n",
       "        vertical-align: top;\n",
       "    }\n",
       "\n",
       "    .dataframe thead th {\n",
       "        text-align: right;\n",
       "    }\n",
       "</style>\n",
       "<table border=\"1\" class=\"dataframe\">\n",
       "  <thead>\n",
       "    <tr style=\"text-align: right;\">\n",
       "      <th></th>\n",
       "      <th>gender</th>\n",
       "      <th>race/ethnicity</th>\n",
       "      <th>parental level of education</th>\n",
       "      <th>lunch</th>\n",
       "      <th>test preparation course</th>\n",
       "      <th>math score</th>\n",
       "      <th>reading score</th>\n",
       "      <th>writing score</th>\n",
       "    </tr>\n",
       "  </thead>\n",
       "  <tbody>\n",
       "    <tr>\n",
       "      <th>0</th>\n",
       "      <td>female</td>\n",
       "      <td>group B</td>\n",
       "      <td>bachelor's degree</td>\n",
       "      <td>standard</td>\n",
       "      <td>none</td>\n",
       "      <td>72</td>\n",
       "      <td>72</td>\n",
       "      <td>74</td>\n",
       "    </tr>\n",
       "    <tr>\n",
       "      <th>1</th>\n",
       "      <td>female</td>\n",
       "      <td>group C</td>\n",
       "      <td>some college</td>\n",
       "      <td>standard</td>\n",
       "      <td>completed</td>\n",
       "      <td>69</td>\n",
       "      <td>90</td>\n",
       "      <td>88</td>\n",
       "    </tr>\n",
       "    <tr>\n",
       "      <th>2</th>\n",
       "      <td>female</td>\n",
       "      <td>group B</td>\n",
       "      <td>master's degree</td>\n",
       "      <td>standard</td>\n",
       "      <td>none</td>\n",
       "      <td>90</td>\n",
       "      <td>95</td>\n",
       "      <td>93</td>\n",
       "    </tr>\n",
       "    <tr>\n",
       "      <th>3</th>\n",
       "      <td>male</td>\n",
       "      <td>group A</td>\n",
       "      <td>associate's degree</td>\n",
       "      <td>free/reduced</td>\n",
       "      <td>none</td>\n",
       "      <td>47</td>\n",
       "      <td>57</td>\n",
       "      <td>44</td>\n",
       "    </tr>\n",
       "    <tr>\n",
       "      <th>4</th>\n",
       "      <td>male</td>\n",
       "      <td>group C</td>\n",
       "      <td>some college</td>\n",
       "      <td>standard</td>\n",
       "      <td>none</td>\n",
       "      <td>76</td>\n",
       "      <td>78</td>\n",
       "      <td>75</td>\n",
       "    </tr>\n",
       "  </tbody>\n",
       "</table>\n",
       "</div>"
      ],
      "text/plain": [
       "   gender race/ethnicity parental level of education         lunch  \\\n",
       "0  female        group B           bachelor's degree      standard   \n",
       "1  female        group C                some college      standard   \n",
       "2  female        group B             master's degree      standard   \n",
       "3    male        group A          associate's degree  free/reduced   \n",
       "4    male        group C                some college      standard   \n",
       "\n",
       "  test preparation course  math score  reading score  writing score  \n",
       "0                    none          72             72             74  \n",
       "1               completed          69             90             88  \n",
       "2                    none          90             95             93  \n",
       "3                    none          47             57             44  \n",
       "4                    none          76             78             75  "
      ]
     },
     "execution_count": 2,
     "metadata": {},
     "output_type": "execute_result"
    }
   ],
   "source": [
    "df = pd.read_csv('data/StudentsPerformance.csv')\n",
    "df.head()"
   ]
  },
  {
   "cell_type": "code",
   "execution_count": 3,
   "id": "dbe3c052",
   "metadata": {},
   "outputs": [
    {
     "data": {
      "text/html": [
       "<div>\n",
       "<style scoped>\n",
       "    .dataframe tbody tr th:only-of-type {\n",
       "        vertical-align: middle;\n",
       "    }\n",
       "\n",
       "    .dataframe tbody tr th {\n",
       "        vertical-align: top;\n",
       "    }\n",
       "\n",
       "    .dataframe thead th {\n",
       "        text-align: right;\n",
       "    }\n",
       "</style>\n",
       "<table border=\"1\" class=\"dataframe\">\n",
       "  <thead>\n",
       "    <tr style=\"text-align: right;\">\n",
       "      <th></th>\n",
       "      <th>gender</th>\n",
       "      <th>race/ethnicity</th>\n",
       "      <th>parental level of education</th>\n",
       "      <th>lunch</th>\n",
       "      <th>test preparation course</th>\n",
       "      <th>reading score</th>\n",
       "      <th>writing score</th>\n",
       "    </tr>\n",
       "  </thead>\n",
       "  <tbody>\n",
       "    <tr>\n",
       "      <th>0</th>\n",
       "      <td>female</td>\n",
       "      <td>group B</td>\n",
       "      <td>bachelor's degree</td>\n",
       "      <td>standard</td>\n",
       "      <td>none</td>\n",
       "      <td>72</td>\n",
       "      <td>74</td>\n",
       "    </tr>\n",
       "    <tr>\n",
       "      <th>1</th>\n",
       "      <td>female</td>\n",
       "      <td>group C</td>\n",
       "      <td>some college</td>\n",
       "      <td>standard</td>\n",
       "      <td>completed</td>\n",
       "      <td>90</td>\n",
       "      <td>88</td>\n",
       "    </tr>\n",
       "    <tr>\n",
       "      <th>2</th>\n",
       "      <td>female</td>\n",
       "      <td>group B</td>\n",
       "      <td>master's degree</td>\n",
       "      <td>standard</td>\n",
       "      <td>none</td>\n",
       "      <td>95</td>\n",
       "      <td>93</td>\n",
       "    </tr>\n",
       "    <tr>\n",
       "      <th>3</th>\n",
       "      <td>male</td>\n",
       "      <td>group A</td>\n",
       "      <td>associate's degree</td>\n",
       "      <td>free/reduced</td>\n",
       "      <td>none</td>\n",
       "      <td>57</td>\n",
       "      <td>44</td>\n",
       "    </tr>\n",
       "    <tr>\n",
       "      <th>4</th>\n",
       "      <td>male</td>\n",
       "      <td>group C</td>\n",
       "      <td>some college</td>\n",
       "      <td>standard</td>\n",
       "      <td>none</td>\n",
       "      <td>78</td>\n",
       "      <td>75</td>\n",
       "    </tr>\n",
       "  </tbody>\n",
       "</table>\n",
       "</div>"
      ],
      "text/plain": [
       "   gender race/ethnicity parental level of education         lunch  \\\n",
       "0  female        group B           bachelor's degree      standard   \n",
       "1  female        group C                some college      standard   \n",
       "2  female        group B             master's degree      standard   \n",
       "3    male        group A          associate's degree  free/reduced   \n",
       "4    male        group C                some college      standard   \n",
       "\n",
       "  test preparation course  reading score  writing score  \n",
       "0                    none             72             74  \n",
       "1               completed             90             88  \n",
       "2                    none             95             93  \n",
       "3                    none             57             44  \n",
       "4                    none             78             75  "
      ]
     },
     "execution_count": 3,
     "metadata": {},
     "output_type": "execute_result"
    }
   ],
   "source": [
    "X = df.drop('math score',axis=1)\n",
    "X.head()"
   ]
  },
  {
   "cell_type": "code",
   "execution_count": 4,
   "id": "9b5d18f7",
   "metadata": {},
   "outputs": [
    {
     "data": {
      "text/plain": [
       "0      72\n",
       "1      69\n",
       "2      90\n",
       "3      47\n",
       "4      76\n",
       "       ..\n",
       "995    88\n",
       "996    62\n",
       "997    59\n",
       "998    68\n",
       "999    77\n",
       "Name: math score, Length: 1000, dtype: int64"
      ]
     },
     "execution_count": 4,
     "metadata": {},
     "output_type": "execute_result"
    }
   ],
   "source": [
    "y = df['math score']\n",
    "y"
   ]
  },
  {
   "cell_type": "code",
   "execution_count": 5,
   "id": "357958c0",
   "metadata": {},
   "outputs": [
    {
     "data": {
      "text/plain": [
       "array(['female', 'male'], dtype=object)"
      ]
     },
     "execution_count": 5,
     "metadata": {},
     "output_type": "execute_result"
    }
   ],
   "source": [
    "df['gender'].unique()"
   ]
  },
  {
   "cell_type": "code",
   "execution_count": 6,
   "id": "a0b4dc41",
   "metadata": {},
   "outputs": [
    {
     "name": "stdout",
     "output_type": "stream",
     "text": [
      "categories in gender course variable:  ['female' 'male']\n",
      "categories in race/ethnicity course variable:  ['group B' 'group C' 'group A' 'group D' 'group E']\n",
      "categories in parental level of education course variable:  [\"bachelor's degree\" 'some college' \"master's degree\" \"associate's degree\"\n",
      " 'high school' 'some high school']\n",
      "categories in lunch course variable:  ['standard' 'free/reduced']\n",
      "categories in test preparation course course variable:  ['none' 'completed']\n"
     ]
    }
   ],
   "source": [
    "for feature in df.columns:\n",
    "    if df[feature].dtypes == 'object':\n",
    "        print(f'categories in {feature} course variable:  {df[feature].unique()}')"
   ]
  },
  {
   "cell_type": "code",
   "execution_count": 7,
   "id": "5e471d2a",
   "metadata": {},
   "outputs": [],
   "source": [
    "num_features = X.select_dtypes(exclude=\"object\").columns\n",
    "cat_features =X.select_dtypes(include=\"object\").columns"
   ]
  },
  {
   "cell_type": "code",
   "execution_count": 8,
   "id": "bf5913ba",
   "metadata": {},
   "outputs": [
    {
     "name": "stdout",
     "output_type": "stream",
     "text": [
      "Index(['gender', 'race/ethnicity', 'parental level of education', 'lunch',\n",
      "       'test preparation course'],\n",
      "      dtype='object')\n",
      "Index(['reading score', 'writing score'], dtype='object')\n"
     ]
    }
   ],
   "source": [
    "print(cat_features)\n",
    "print(num_features)"
   ]
  },
  {
   "cell_type": "code",
   "execution_count": 9,
   "id": "ff6187e5",
   "metadata": {},
   "outputs": [],
   "source": [
    "from sklearn.preprocessing import OneHotEncoder,StandardScaler\n",
    "from sklearn.compose import ColumnTransformer\n",
    "\n",
    "scaler = StandardScaler()\n",
    "encoder = OneHotEncoder()\n",
    "\n",
    "preprocessor = ColumnTransformer(\n",
    "   [\n",
    "       (\"OneHotEncoder\",encoder,cat_features),\n",
    "       (\"StandardScaler\",scaler,num_features)\n",
    "   ]\n",
    ")"
   ]
  },
  {
   "cell_type": "code",
   "execution_count": 10,
   "id": "855476bb",
   "metadata": {},
   "outputs": [
    {
     "data": {
      "text/plain": [
       "array([[ 1.        ,  0.        ,  0.        , ...,  1.        ,\n",
       "         0.19399858,  0.39149181],\n",
       "       [ 1.        ,  0.        ,  0.        , ...,  0.        ,\n",
       "         1.42747598,  1.31326868],\n",
       "       [ 1.        ,  0.        ,  0.        , ...,  1.        ,\n",
       "         1.77010859,  1.64247471],\n",
       "       ...,\n",
       "       [ 1.        ,  0.        ,  0.        , ...,  0.        ,\n",
       "         0.12547206, -0.20107904],\n",
       "       [ 1.        ,  0.        ,  0.        , ...,  0.        ,\n",
       "         0.60515772,  0.58901542],\n",
       "       [ 1.        ,  0.        ,  0.        , ...,  1.        ,\n",
       "         1.15336989,  1.18158627]])"
      ]
     },
     "execution_count": 10,
     "metadata": {},
     "output_type": "execute_result"
    }
   ],
   "source": [
    "X = preprocessor.fit_transform(X)\n",
    "X"
   ]
  },
  {
   "cell_type": "code",
   "execution_count": 11,
   "id": "977371fe",
   "metadata": {},
   "outputs": [
    {
     "data": {
      "text/plain": [
       "(1000, 19)"
      ]
     },
     "execution_count": 11,
     "metadata": {},
     "output_type": "execute_result"
    }
   ],
   "source": [
    "X.shape"
   ]
  },
  {
   "cell_type": "code",
   "execution_count": 12,
   "id": "c1ad80fb",
   "metadata": {},
   "outputs": [
    {
     "data": {
      "text/plain": [
       "((800, 19), (200, 19))"
      ]
     },
     "execution_count": 12,
     "metadata": {},
     "output_type": "execute_result"
    }
   ],
   "source": [
    "X_train,X_test,y_train,y_test = train_test_split(X,y,test_size=0.2,random_state= 42)\n",
    "X_train.shape,X_test.shape"
   ]
  },
  {
   "cell_type": "code",
   "execution_count": 13,
   "id": "9190f71e",
   "metadata": {},
   "outputs": [],
   "source": [
    "def evaluate_model(true,predicted):\n",
    "    mae = mean_absolute_error(true,predicted)\n",
    "    mse = mean_squared_error(true,predicted)\n",
    "    rmse = np.sqrt(mean_squared_error(true,predicted))\n",
    "    r2_square = r2_score(true,predicted)\n",
    "    return mae,mse,rmse,r2_square"
   ]
  },
  {
   "cell_type": "code",
   "execution_count": 14,
   "id": "5840ee8f",
   "metadata": {},
   "outputs": [],
   "source": [
    "models = {\n",
    "    \"Linear Regression\":LinearRegression(),\n",
    "    \"Ridge\":Ridge(),\n",
    "    \"Lasso\":Lasso(),\n",
    "    \"KNearestNeighbour\":KNeighborsRegressor(),\n",
    "    \"DecisionTree\":DecisionTreeRegressor(),\n",
    "    \"RandomForest\":RandomForestRegressor(),\n",
    "    \"XGBRegressor\":XGBRegressor(),\n",
    "    \"CatBoost\":CatBoostRegressor(verbose=False),\n",
    "    \"AdaBoost\":AdaBoostRegressor(),\n",
    "}"
   ]
  },
  {
   "cell_type": "code",
   "execution_count": 15,
   "id": "9d0b4c38",
   "metadata": {},
   "outputs": [
    {
     "name": "stdout",
     "output_type": "stream",
     "text": [
      "\n",
      "\n",
      "********  model_performace for training set ********\n",
      "Root Mean Squared Error 5.327632973066287\n",
      "Mean Absolute Error 4.2691015625\n",
      "R squared Error 0.8741007335802723\n",
      "\n",
      "\n",
      "********  model_performace for test set ********\n",
      "Root Mean Squared Error 5.418484170238481\n",
      "Mean Absolute Error 4.2234375\n",
      "R squared Error 0.879345098417985\n",
      "\n",
      "\n",
      "********  model_performace for training set ********\n",
      "Root Mean Squared Error 5.323324922741654\n",
      "Mean Absolute Error 4.26498782372598\n",
      "R squared Error 0.8743042615212909\n",
      "\n",
      "\n",
      "********  model_performace for test set ********\n",
      "Root Mean Squared Error 5.390387016935634\n",
      "Mean Absolute Error 4.211100688014258\n",
      "R squared Error 0.880593148502874\n",
      "\n",
      "\n",
      "********  model_performace for training set ********\n",
      "Root Mean Squared Error 6.593815587795566\n",
      "Mean Absolute Error 5.206302661246526\n",
      "R squared Error 0.8071462015863456\n",
      "\n",
      "\n",
      "********  model_performace for test set ********\n",
      "Root Mean Squared Error 6.519694535667419\n",
      "Mean Absolute Error 5.157881810347763\n",
      "R squared Error 0.8253197323627853\n",
      "\n",
      "\n",
      "********  model_performace for training set ********\n",
      "Root Mean Squared Error 5.707683417990174\n",
      "Mean Absolute Error 4.516749999999999\n",
      "R squared Error 0.8554978341651085\n",
      "\n",
      "\n",
      "********  model_performace for test set ********\n",
      "Root Mean Squared Error 7.253040741647602\n",
      "Mean Absolute Error 5.621\n",
      "R squared Error 0.7838129945787431\n",
      "\n",
      "\n",
      "********  model_performace for training set ********\n",
      "Root Mean Squared Error 0.2795084971874737\n",
      "Mean Absolute Error 0.01875\n",
      "R squared Error 0.9996534669718089\n",
      "\n",
      "\n",
      "********  model_performace for test set ********\n",
      "Root Mean Squared Error 8.024649525057153\n",
      "Mean Absolute Error 6.385\n",
      "R squared Error 0.7353685238334764\n",
      "\n",
      "\n",
      "********  model_performace for training set ********\n",
      "Root Mean Squared Error 2.301928284671504\n",
      "Mean Absolute Error 1.8291312499999999\n",
      "R squared Error 0.9764961946426864\n",
      "\n",
      "\n",
      "********  model_performace for test set ********\n",
      "Root Mean Squared Error 5.921066016530203\n",
      "Mean Absolute Error 4.586942857142857\n",
      "R squared Error 0.85592482414568\n",
      "\n",
      "\n",
      "********  model_performace for training set ********\n",
      "Root Mean Squared Error 0.9087352405171366\n",
      "Mean Absolute Error 0.6147581052780151\n",
      "R squared Error 0.996337063889075\n",
      "\n",
      "\n",
      "********  model_performace for test set ********\n",
      "Root Mean Squared Error 6.5889405377065415\n",
      "Mean Absolute Error 5.084371652603149\n",
      "R squared Error 0.8215894515233413\n",
      "\n",
      "\n",
      "********  model_performace for training set ********\n",
      "Root Mean Squared Error 3.042664195326799\n",
      "Mean Absolute Error 2.405393926779502\n",
      "R squared Error 0.9589358676277713\n",
      "\n",
      "\n",
      "********  model_performace for test set ********\n",
      "Root Mean Squared Error 6.008631956907363\n",
      "Mean Absolute Error 4.612531714976557\n",
      "R squared Error 0.8516318920747058\n",
      "\n",
      "\n",
      "********  model_performace for training set ********\n",
      "Root Mean Squared Error 5.687961590539065\n",
      "Mean Absolute Error 4.640858209127901\n",
      "R squared Error 0.8564947090853043\n",
      "\n",
      "\n",
      "********  model_performace for test set ********\n",
      "Root Mean Squared Error 5.943423215268679\n",
      "Mean Absolute Error 4.587984991916896\n",
      "R squared Error 0.854834750636173\n"
     ]
    }
   ],
   "source": [
    "models_key = []\n",
    "r2 = [] \n",
    "\n",
    "for i in range(len(models)):\n",
    "    model = list(models.values())[i]\n",
    "    model.fit(X_train,y_train)\n",
    "    \n",
    "    #make predictions\n",
    "    y_train_pred = model.predict(X_train)\n",
    "    y_test_pred = model.predict(X_test)\n",
    "    \n",
    "    #Evaluate Train and Test dataset\n",
    "    model_trained_mae,model_trained_mse,model_trained_rmse,model_trained_r2 = evaluate_model(y_train,y_train_pred)\n",
    "    model_test_mae,model_test_mse,model_test_rmse,model_test_r2 = evaluate_model(y_test,y_test_pred)\n",
    "    \n",
    "    models_key.append(list(models.keys())[i])\n",
    "    r2.append(model_test_r2)\n",
    "    \n",
    "    print('\\n')\n",
    "    print('********  model_performace for training set ********')\n",
    "    print(f'Root Mean Squared Error {model_trained_rmse}')\n",
    "    print(f'Mean Absolute Error {model_trained_mae}')\n",
    "    print(f'R squared Error {model_trained_r2}')\n",
    "    print('\\n')\n",
    "    print('********  model_performace for test set ********')\n",
    "    print(f'Root Mean Squared Error {model_test_rmse}')\n",
    "    print(f'Mean Absolute Error {model_test_mae}')\n",
    "    print(f'R squared Error {model_test_r2}')\n",
    "            \n",
    "    \n",
    "    #model performance for test set"
   ]
  },
  {
   "cell_type": "code",
   "execution_count": 16,
   "id": "2225f6c2",
   "metadata": {},
   "outputs": [
    {
     "name": "stdout",
     "output_type": "stream",
     "text": [
      "['Linear Regression', 'Ridge', 'Lasso', 'KNearestNeighbour', 'DecisionTree', 'RandomForest', 'XGBRegressor', 'CatBoost', 'AdaBoost']\n",
      "[0.879345098417985, 0.880593148502874, 0.8253197323627853, 0.7838129945787431, 0.7353685238334764, 0.85592482414568, 0.8215894515233413, 0.8516318920747058, 0.854834750636173]\n"
     ]
    }
   ],
   "source": [
    "print(models_key)\n",
    "print(r2)"
   ]
  },
  {
   "cell_type": "code",
   "execution_count": 17,
   "id": "fc66d66b",
   "metadata": {},
   "outputs": [
    {
     "data": {
      "text/html": [
       "<div>\n",
       "<style scoped>\n",
       "    .dataframe tbody tr th:only-of-type {\n",
       "        vertical-align: middle;\n",
       "    }\n",
       "\n",
       "    .dataframe tbody tr th {\n",
       "        vertical-align: top;\n",
       "    }\n",
       "\n",
       "    .dataframe thead th {\n",
       "        text-align: right;\n",
       "    }\n",
       "</style>\n",
       "<table border=\"1\" class=\"dataframe\">\n",
       "  <thead>\n",
       "    <tr style=\"text-align: right;\">\n",
       "      <th></th>\n",
       "      <th>Model Name</th>\n",
       "      <th>R2 Score</th>\n",
       "    </tr>\n",
       "  </thead>\n",
       "  <tbody>\n",
       "    <tr>\n",
       "      <th>1</th>\n",
       "      <td>Ridge</td>\n",
       "      <td>0.880593</td>\n",
       "    </tr>\n",
       "    <tr>\n",
       "      <th>0</th>\n",
       "      <td>Linear Regression</td>\n",
       "      <td>0.879345</td>\n",
       "    </tr>\n",
       "    <tr>\n",
       "      <th>5</th>\n",
       "      <td>RandomForest</td>\n",
       "      <td>0.855925</td>\n",
       "    </tr>\n",
       "    <tr>\n",
       "      <th>8</th>\n",
       "      <td>AdaBoost</td>\n",
       "      <td>0.854835</td>\n",
       "    </tr>\n",
       "    <tr>\n",
       "      <th>7</th>\n",
       "      <td>CatBoost</td>\n",
       "      <td>0.851632</td>\n",
       "    </tr>\n",
       "    <tr>\n",
       "      <th>2</th>\n",
       "      <td>Lasso</td>\n",
       "      <td>0.825320</td>\n",
       "    </tr>\n",
       "    <tr>\n",
       "      <th>6</th>\n",
       "      <td>XGBRegressor</td>\n",
       "      <td>0.821589</td>\n",
       "    </tr>\n",
       "    <tr>\n",
       "      <th>3</th>\n",
       "      <td>KNearestNeighbour</td>\n",
       "      <td>0.783813</td>\n",
       "    </tr>\n",
       "    <tr>\n",
       "      <th>4</th>\n",
       "      <td>DecisionTree</td>\n",
       "      <td>0.735369</td>\n",
       "    </tr>\n",
       "  </tbody>\n",
       "</table>\n",
       "</div>"
      ],
      "text/plain": [
       "          Model Name  R2 Score\n",
       "1              Ridge  0.880593\n",
       "0  Linear Regression  0.879345\n",
       "5       RandomForest  0.855925\n",
       "8           AdaBoost  0.854835\n",
       "7           CatBoost  0.851632\n",
       "2              Lasso  0.825320\n",
       "6       XGBRegressor  0.821589\n",
       "3  KNearestNeighbour  0.783813\n",
       "4       DecisionTree  0.735369"
      ]
     },
     "execution_count": 17,
     "metadata": {},
     "output_type": "execute_result"
    }
   ],
   "source": [
    "pd.DataFrame(list(zip(models_key,r2)),columns=['Model Name','R2 Score']).sort_values(by=['R2 Score'], ascending=False)"
   ]
  },
  {
   "cell_type": "code",
   "execution_count": 20,
   "id": "544700bd",
   "metadata": {},
   "outputs": [
    {
     "data": {
      "text/plain": [
       "0.879345098417985"
      ]
     },
     "execution_count": 20,
     "metadata": {},
     "output_type": "execute_result"
    }
   ],
   "source": [
    "model = LinearRegression()\n",
    "model.fit(X_train,y_train)\n",
    "y_pred = model.predict(X_test)\n",
    "score = r2_score(y_test,y_pred)\n",
    "score"
   ]
  },
  {
   "cell_type": "code",
   "execution_count": 23,
   "id": "b62d6d5d",
   "metadata": {},
   "outputs": [
    {
     "data": {
      "text/plain": [
       "Text(0, 0.5, 'predicted')"
      ]
     },
     "execution_count": 23,
     "metadata": {},
     "output_type": "execute_result"
    },
    {
     "data": {
      "image/png": "[encoded data removed]",
      "text/plain": [
       "<Figure size 640x480 with 1 Axes>"
      ]
     },
     "metadata": {},
     "output_type": "display_data"
    }
   ],
   "source": [
    "plt.scatter(y_test,y_pred)\n",
    "plt.xlabel('Actual')\n",
    "plt.ylabel('predicted')"
   ]
  },
  {
   "cell_type": "code",
   "execution_count": 24,
   "id": "50c3b846",
   "metadata": {},
   "outputs": [
    {
     "data": {
      "text/plain": [
       "<AxesSubplot: xlabel='math score'>"
      ]
     },
     "execution_count": 24,
     "metadata": {},
     "output_type": "execute_result"
    },
    {
     "data": {
      "image/png": "[encoded data removed]",
      "text/plain": [
       "<Figure size 640x480 with 1 Axes>"
      ]
     },
     "metadata": {},
     "output_type": "display_data"
    }
   ],
   "source": [
    "sns.regplot(x=y_test,y=y_pred)"
   ]
  },
  {
   "cell_type": "code",
   "execution_count": 27,
   "id": "3f4d22bc",
   "metadata": {},
   "outputs": [
    {
     "data": {
      "text/html": [
       "<div>\n",
       "<style scoped>\n",
       "    .dataframe tbody tr th:only-of-type {\n",
       "        vertical-align: middle;\n",
       "    }\n",
       "\n",
       "    .dataframe tbody tr th {\n",
       "        vertical-align: top;\n",
       "    }\n",
       "\n",
       "    .dataframe thead th {\n",
       "        text-align: right;\n",
       "    }\n",
       "</style>\n",
       "<table border=\"1\" class=\"dataframe\">\n",
       "  <thead>\n",
       "    <tr style=\"text-align: right;\">\n",
       "      <th></th>\n",
       "      <th>Actual</th>\n",
       "      <th>Predicted</th>\n",
       "      <th>Difference</th>\n",
       "    </tr>\n",
       "  </thead>\n",
       "  <tbody>\n",
       "    <tr>\n",
       "      <th>521</th>\n",
       "      <td>91</td>\n",
       "      <td>76.18750</td>\n",
       "      <td>14.81250</td>\n",
       "    </tr>\n",
       "    <tr>\n",
       "      <th>737</th>\n",
       "      <td>53</td>\n",
       "      <td>59.21875</td>\n",
       "      <td>-6.21875</td>\n",
       "    </tr>\n",
       "    <tr>\n",
       "      <th>740</th>\n",
       "      <td>80</td>\n",
       "      <td>76.81250</td>\n",
       "      <td>3.18750</td>\n",
       "    </tr>\n",
       "    <tr>\n",
       "      <th>660</th>\n",
       "      <td>74</td>\n",
       "      <td>76.81250</td>\n",
       "      <td>-2.81250</td>\n",
       "    </tr>\n",
       "    <tr>\n",
       "      <th>411</th>\n",
       "      <td>84</td>\n",
       "      <td>87.96875</td>\n",
       "      <td>-3.96875</td>\n",
       "    </tr>\n",
       "    <tr>\n",
       "      <th>...</th>\n",
       "      <td>...</td>\n",
       "      <td>...</td>\n",
       "      <td>...</td>\n",
       "    </tr>\n",
       "    <tr>\n",
       "      <th>408</th>\n",
       "      <td>52</td>\n",
       "      <td>43.78125</td>\n",
       "      <td>8.21875</td>\n",
       "    </tr>\n",
       "    <tr>\n",
       "      <th>332</th>\n",
       "      <td>62</td>\n",
       "      <td>62.40625</td>\n",
       "      <td>-0.40625</td>\n",
       "    </tr>\n",
       "    <tr>\n",
       "      <th>208</th>\n",
       "      <td>74</td>\n",
       "      <td>67.81250</td>\n",
       "      <td>6.18750</td>\n",
       "    </tr>\n",
       "    <tr>\n",
       "      <th>613</th>\n",
       "      <td>65</td>\n",
       "      <td>66.84375</td>\n",
       "      <td>-1.84375</td>\n",
       "    </tr>\n",
       "    <tr>\n",
       "      <th>78</th>\n",
       "      <td>61</td>\n",
       "      <td>62.62500</td>\n",
       "      <td>-1.62500</td>\n",
       "    </tr>\n",
       "  </tbody>\n",
       "</table>\n",
       "<p>200 rows × 3 columns</p>\n",
       "</div>"
      ],
      "text/plain": [
       "     Actual  Predicted  Difference\n",
       "521      91   76.18750    14.81250\n",
       "737      53   59.21875    -6.21875\n",
       "740      80   76.81250     3.18750\n",
       "660      74   76.81250    -2.81250\n",
       "411      84   87.96875    -3.96875\n",
       "..      ...        ...         ...\n",
       "408      52   43.78125     8.21875\n",
       "332      62   62.40625    -0.40625\n",
       "208      74   67.81250     6.18750\n",
       "613      65   66.84375    -1.84375\n",
       "78       61   62.62500    -1.62500\n",
       "\n",
       "[200 rows x 3 columns]"
      ]
     },
     "execution_count": 27,
     "metadata": {},
     "output_type": "execute_result"
    }
   ],
   "source": [
    "pd.DataFrame({'Actual':y_test,'Predicted':y_pred,'Difference':y_test-y_pred})"
   ]
  }
 ],
 "metadata": {
  "kernelspec": {
   "display_name": "venv",
   "language": "python",
   "name": "venv"
  },
  "language_info": {
   "codemirror_mode": {
    "name": "ipython",
    "version": 3
   },
   "file_extension": ".py",
   "mimetype": "text/x-python",
   "name": "python",
   "nbconvert_exporter": "python",
   "pygments_lexer": "ipython3",
   "version": "3.8.0"
  }
 },
 "nbformat": 4,
 "nbformat_minor": 5
}
